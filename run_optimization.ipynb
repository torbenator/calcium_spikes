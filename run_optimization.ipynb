{
 "cells": [
  {
   "cell_type": "code",
   "execution_count": null,
   "metadata": {
    "collapsed": false
   },
   "outputs": [],
   "source": [
    "%pylab inline\n",
    "import calcium_spikes as cs\n",
    "import numpy as np\n",
    "import matplotlib.pyplot as plt\n",
    "import scipy.io"
   ]
  },
  {
   "cell_type": "code",
   "execution_count": null,
   "metadata": {
    "collapsed": false
   },
   "outputs": [],
   "source": [
    "data_dir = '/Users/Torben/Documents/cai-3_dataset/data/'\n",
    "all_dat = cs.data_organization.load_data(data_dir)\n",
    "\n",
    "all_calcium = all_dat[0]\n",
    "all_spikes = all_dat[1]\n",
    "all_loc= all_dat[2]\n",
    "all_bs = all_dat[3]\n",
    "all_ind = all_dat[4]"
   ]
  },
  {
   "cell_type": "code",
   "execution_count": null,
   "metadata": {
    "collapsed": true
   },
   "outputs": [],
   "source": [
    "complete_feature_mat = cs.data_organization.build_feature_mat(all_calcium, all_loc, all_ind, all_bs)\n",
    "X_train,X_test,y_train,y_test = cs.data_organization.build_train_test_sets(complete_feature_mat,all_spikes, ceil_spikes=True, subsample=500000, test_size=.2)"
   ]
  },
  {
   "cell_type": "code",
   "execution_count": null,
   "metadata": {
    "collapsed": false,
    "scrolled": true
   },
   "outputs": [],
   "source": [
    "binary_params = {\n",
    "        'objective': \"binary:logistic\",\n",
    "        'eval_metric':\"error\",\n",
    "        'eta': 1, #step size shrinkage. larger--> more conservative / less overfitting\n",
    "        'alpha':0.01, #l1 regularization\n",
    "        'lambda':0.01, #l2 regularizaion\n",
    "        'gamma':3, # default = 0, minimum loss reduction to further partitian on a leaf node. larger-->more conservative\n",
    "        'max_depth': 5,\n",
    "        'seed': 16,\n",
    "        'silent': 1,\n",
    "        'colsample_bytree':.5\n",
    "        }\n",
    "\n",
    "binary_opt_params_dict = {\n",
    "        'eta' : [0.5,1],\n",
    "        'alpha' : [0,0.01,0.1],\n",
    "        'lambda' : [0,0.01,0.1],\n",
    "        'gamma' : [0,1,3,5],\n",
    "        }\n",
    "cs.optimization.optimize_binary(X_train,X_test,y_train,y_test,\n",
    "                                params=binary_params, opt_params_dict=binary_opt_params_dict, \n",
    "                                verbose=True, out_dir='./optimization_output/')"
   ]
  },
  {
   "cell_type": "code",
   "execution_count": null,
   "metadata": {
    "collapsed": false
   },
   "outputs": [],
   "source": []
  },
  {
   "cell_type": "code",
   "execution_count": null,
   "metadata": {
    "collapsed": false
   },
   "outputs": [],
   "source": []
  },
  {
   "cell_type": "code",
   "execution_count": null,
   "metadata": {
    "collapsed": false
   },
   "outputs": [],
   "source": []
  },
  {
   "cell_type": "code",
   "execution_count": null,
   "metadata": {
    "collapsed": false
   },
   "outputs": [],
   "source": []
  },
  {
   "cell_type": "code",
   "execution_count": null,
   "metadata": {
    "collapsed": false
   },
   "outputs": [],
   "source": []
  },
  {
   "cell_type": "code",
   "execution_count": null,
   "metadata": {
    "collapsed": true
   },
   "outputs": [],
   "source": []
  }
 ],
 "metadata": {
  "anaconda-cloud": {},
  "kernelspec": {
   "display_name": "Python [default]",
   "language": "python",
   "name": "python2"
  },
  "language_info": {
   "codemirror_mode": {
    "name": "ipython",
    "version": 2
   },
   "file_extension": ".py",
   "mimetype": "text/x-python",
   "name": "python",
   "nbconvert_exporter": "python",
   "pygments_lexer": "ipython2",
   "version": "2.7.12"
  }
 },
 "nbformat": 4,
 "nbformat_minor": 2
}
